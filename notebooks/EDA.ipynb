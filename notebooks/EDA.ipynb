{
 "cells": [
  {
   "cell_type": "code",
   "execution_count": 1,
   "metadata": {},
   "outputs": [
    {
     "name": "stdout",
     "output_type": "stream",
     "text": [
      "   price  model_year           model  condition  cylinders fuel  odometer  \\\n",
      "0   9400      2011.0          bmw x5       good        6.0  gas  145000.0   \n",
      "1  25500         NaN      ford f-150       good        6.0  gas   88705.0   \n",
      "2   5500      2013.0  hyundai sonata   like new        4.0  gas  110000.0   \n",
      "3   1500      2003.0      ford f-150       fair        8.0  gas       NaN   \n",
      "4  14900      2017.0    chrysler 200  excellent        4.0  gas   80903.0   \n",
      "\n",
      "  transmission    type paint_color  is_4wd date_posted  days_listed  \n",
      "0    automatic     SUV         NaN     1.0  2018-06-23           19  \n",
      "1    automatic  pickup       white     1.0  2018-10-19           50  \n",
      "2    automatic   sedan         red     NaN  2019-02-07           79  \n",
      "3    automatic  pickup         NaN     NaN  2019-03-22            9  \n",
      "4    automatic   sedan       black     NaN  2019-04-02           28  \n"
     ]
    }
   ],
   "source": [
    "import streamlit as st\n",
    "import pandas as pd\n",
    "import plotly_express as px\n",
    "\n",
    "df = pd.read_csv('../vehicles_us.csv')\n",
    "print(df.head())"
   ]
  },
  {
   "cell_type": "code",
   "execution_count": 2,
   "metadata": {},
   "outputs": [
    {
     "name": "stdout",
     "output_type": "stream",
     "text": [
      "<class 'pandas.core.frame.DataFrame'>\n",
      "RangeIndex: 51525 entries, 0 to 51524\n",
      "Data columns (total 13 columns):\n",
      " #   Column        Non-Null Count  Dtype  \n",
      "---  ------        --------------  -----  \n",
      " 0   price         51525 non-null  int64  \n",
      " 1   model_year    47906 non-null  float64\n",
      " 2   model         51525 non-null  object \n",
      " 3   condition     51525 non-null  object \n",
      " 4   cylinders     46265 non-null  float64\n",
      " 5   fuel          51525 non-null  object \n",
      " 6   odometer      43633 non-null  float64\n",
      " 7   transmission  51525 non-null  object \n",
      " 8   type          51525 non-null  object \n",
      " 9   paint_color   42258 non-null  object \n",
      " 10  is_4wd        25572 non-null  float64\n",
      " 11  date_posted   51525 non-null  object \n",
      " 12  days_listed   51525 non-null  int64  \n",
      "dtypes: float64(4), int64(2), object(7)\n",
      "memory usage: 5.1+ MB\n"
     ]
    }
   ],
   "source": [
    "df.info()"
   ]
  },
  {
   "cell_type": "code",
   "execution_count": 3,
   "metadata": {},
   "outputs": [
    {
     "name": "stdout",
     "output_type": "stream",
     "text": [
      "price               0\n",
      "model_year       3619\n",
      "model               0\n",
      "condition           0\n",
      "cylinders        5260\n",
      "fuel                0\n",
      "odometer         7892\n",
      "transmission        0\n",
      "type                0\n",
      "paint_color      9267\n",
      "is_4wd          25953\n",
      "date_posted         0\n",
      "days_listed         0\n",
      "dtype: int64\n"
     ]
    }
   ],
   "source": [
    "print (df.isna().sum())"
   ]
  },
  {
   "cell_type": "code",
   "execution_count": 4,
   "metadata": {},
   "outputs": [
    {
     "name": "stdout",
     "output_type": "stream",
     "text": [
      "price              0\n",
      "model_year      3619\n",
      "model              0\n",
      "condition          0\n",
      "cylinders       5260\n",
      "fuel               0\n",
      "odometer        7892\n",
      "transmission       0\n",
      "type               0\n",
      "paint_color     9267\n",
      "is_4wd             0\n",
      "date_posted        0\n",
      "days_listed        0\n",
      "dtype: int64\n"
     ]
    }
   ],
   "source": [
    "df['is_4wd']=df['is_4wd'].fillna(0)\n",
    "print(df.isna().sum())"
   ]
  },
  {
   "cell_type": "code",
   "execution_count": 5,
   "metadata": {},
   "outputs": [
    {
     "name": "stdout",
     "output_type": "stream",
     "text": [
      "price           0\n",
      "model_year      0\n",
      "model           0\n",
      "condition       0\n",
      "cylinders       0\n",
      "fuel            0\n",
      "odometer        0\n",
      "transmission    0\n",
      "type            0\n",
      "paint_color     0\n",
      "is_4wd          0\n",
      "date_posted     0\n",
      "days_listed     0\n",
      "dtype: int64\n"
     ]
    }
   ],
   "source": [
    "df_clean = df.dropna(subset=['model_year', 'cylinders', 'odometer', 'paint_color'])\n",
    "print(df_clean.isna().sum())"
   ]
  },
  {
   "cell_type": "code",
   "execution_count": 6,
   "metadata": {},
   "outputs": [],
   "source": [
    "df_clean.to_csv('../vehicles_us_clean.csv', index=False)"
   ]
  },
  {
   "cell_type": "code",
   "execution_count": 14,
   "metadata": {},
   "outputs": [],
   "source": [
    "df = pd.read_csv('vehicles_us_clean.csv')\n",
    "df['manufacturer'] = df['model'].apply(lambda model: model.split()[0])"
   ]
  },
  {
   "cell_type": "code",
   "execution_count": 15,
   "metadata": {},
   "outputs": [
    {
     "name": "stdout",
     "output_type": "stream",
     "text": [
      "       price  model_year           model  condition  cylinders fuel  odometer  \\\n",
      "0       5500      2013.0  hyundai sonata   like new        4.0  gas  110000.0   \n",
      "1      14900      2017.0    chrysler 200  excellent        4.0  gas   80903.0   \n",
      "2      14990      2014.0    chrysler 300  excellent        6.0  gas   57954.0   \n",
      "3      12990      2015.0    toyota camry  excellent        4.0  gas   79212.0   \n",
      "4      15990      2013.0     honda pilot  excellent        6.0  gas  109473.0   \n",
      "...      ...         ...             ...        ...        ...  ...       ...   \n",
      "29911   3750      2005.0     ford taurus  excellent        6.0  gas  110200.0   \n",
      "29912   9249      2013.0   nissan maxima   like new        6.0  gas   88136.0   \n",
      "29913   2700      2002.0     honda civic    salvage        4.0  gas  181500.0   \n",
      "29914   3950      2009.0  hyundai sonata  excellent        4.0  gas  128000.0   \n",
      "29915   7455      2013.0  toyota corolla       good        4.0  gas  139573.0   \n",
      "\n",
      "      transmission   type paint_color  is_4wd date_posted  days_listed  \\\n",
      "0        automatic  sedan         red     0.0  2019-02-07           79   \n",
      "1        automatic  sedan       black     0.0  2019-04-02           28   \n",
      "2        automatic  sedan       black     1.0  2018-06-20           15   \n",
      "3        automatic  sedan       white     0.0  2018-12-27           73   \n",
      "4        automatic    SUV       black     1.0  2019-01-07           68   \n",
      "...            ...    ...         ...     ...         ...          ...   \n",
      "29911    automatic  sedan      silver     0.0  2018-08-10           63   \n",
      "29912    automatic  sedan       black     0.0  2018-10-03           37   \n",
      "29913    automatic  sedan       white     0.0  2018-11-14           22   \n",
      "29914    automatic  sedan        blue     0.0  2018-11-15           32   \n",
      "29915    automatic  sedan       black     0.0  2018-07-02           71   \n",
      "\n",
      "      manufacturer  \n",
      "0          hyundai  \n",
      "1         chrysler  \n",
      "2         chrysler  \n",
      "3           toyota  \n",
      "4            honda  \n",
      "...            ...  \n",
      "29911         ford  \n",
      "29912       nissan  \n",
      "29913        honda  \n",
      "29914      hyundai  \n",
      "29915       toyota  \n",
      "\n",
      "[29916 rows x 14 columns]\n"
     ]
    }
   ],
   "source": [
    "print (df)"
   ]
  },
  {
   "cell_type": "code",
   "execution_count": null,
   "metadata": {},
   "outputs": [],
   "source": []
  }
 ],
 "metadata": {
  "kernelspec": {
   "display_name": "Python 3",
   "language": "python",
   "name": "python3"
  },
  "language_info": {
   "codemirror_mode": {
    "name": "ipython",
    "version": 3
   },
   "file_extension": ".py",
   "mimetype": "text/x-python",
   "name": "python",
   "nbconvert_exporter": "python",
   "pygments_lexer": "ipython3",
   "version": "3.11.5"
  }
 },
 "nbformat": 4,
 "nbformat_minor": 2
}
